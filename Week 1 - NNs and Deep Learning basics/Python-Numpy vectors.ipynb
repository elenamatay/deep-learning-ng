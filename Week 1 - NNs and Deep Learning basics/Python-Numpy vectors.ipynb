{
 "cells": [
  {
   "cell_type": "markdown",
   "id": "7f7f77b6-9c58-454b-a2b3-ff2ff151b309",
   "metadata": {},
   "source": [
    "# Python-Numpy vectors"
   ]
  },
  {
   "cell_type": "code",
   "execution_count": 1,
   "id": "5a33b24d-9e28-48ae-adf3-65cc6adbcf37",
   "metadata": {
    "tags": []
   },
   "outputs": [],
   "source": [
    "import numpy as np"
   ]
  },
  {
   "cell_type": "code",
   "execution_count": 4,
   "id": "08d2a376-6642-4ec4-be39-a0059aa77576",
   "metadata": {
    "tags": []
   },
   "outputs": [
    {
     "name": "stdout",
     "output_type": "stream",
     "text": [
      "[ 0.59222057  0.59055104 -0.49366224 -1.8213608   0.52659094]\n"
     ]
    }
   ],
   "source": [
    "a = np.random.randn(5)\n",
    "\n",
    "print(a)"
   ]
  },
  {
   "cell_type": "code",
   "execution_count": 5,
   "id": "70b58bec-11f0-4407-a1c0-95925148a9a8",
   "metadata": {
    "tags": []
   },
   "outputs": [
    {
     "name": "stdout",
     "output_type": "stream",
     "text": [
      "(5,)\n"
     ]
    }
   ],
   "source": [
    "print(a.shape)"
   ]
  },
  {
   "cell_type": "markdown",
   "id": "b23ac6b2-81c7-4ff3-95f7-4f2138aaa958",
   "metadata": {},
   "source": [
    "This is what we call a rank 1 array. We should not use rank 1 arrays structure when training NNs. "
   ]
  },
  {
   "cell_type": "code",
   "execution_count": 6,
   "id": "e0b5f870-f5cc-4e5e-992a-bbfae678ef02",
   "metadata": {
    "tags": []
   },
   "outputs": [
    {
     "name": "stdout",
     "output_type": "stream",
     "text": [
      "[ 0.59222057  0.59055104 -0.49366224 -1.8213608   0.52659094]\n"
     ]
    }
   ],
   "source": [
    "print(a.T)"
   ]
  },
  {
   "cell_type": "markdown",
   "id": "0e16c0b2-5a84-4d4a-a012-94b27d1f7ba5",
   "metadata": {},
   "source": [
    "As a rank 1 array, its transpose ends up looking exactly the same. Instead, when training NNs we should be using column vectors (e.g. size (5, 1)) or row vectors (e.g. size (1,5)); aka “n by 1” and “1 by n” matrices."
   ]
  },
  {
   "cell_type": "code",
   "execution_count": 9,
   "id": "06c537e1-8cd4-40f5-b4e9-351bd9a52781",
   "metadata": {
    "tags": []
   },
   "outputs": [
    {
     "name": "stdout",
     "output_type": "stream",
     "text": [
      "[[ 0.79599305]\n",
      " [-0.85235005]\n",
      " [-0.75106449]\n",
      " [ 0.08159798]\n",
      " [-0.83653523]]\n"
     ]
    }
   ],
   "source": [
    "a = np.random.randn(5, 1)\n",
    "\n",
    "print(a)"
   ]
  },
  {
   "cell_type": "code",
   "execution_count": 10,
   "id": "0485274b-3f89-4b15-9e03-bf3478cafced",
   "metadata": {
    "tags": []
   },
   "outputs": [
    {
     "name": "stdout",
     "output_type": "stream",
     "text": [
      "[[ 0.79599305 -0.85235005 -0.75106449  0.08159798 -0.83653523]]\n"
     ]
    }
   ],
   "source": [
    "print(a.T)"
   ]
  },
  {
   "cell_type": "code",
   "execution_count": 11,
   "id": "42f5a16b-3d62-467f-908e-2546480e2c73",
   "metadata": {
    "tags": []
   },
   "outputs": [
    {
     "name": "stdout",
     "output_type": "stream",
     "text": [
      "[[ 0.63360493 -0.67846472 -0.59784211  0.06495143 -0.66587623]\n",
      " [-0.67846472  0.72650061  0.64016986 -0.06955004  0.71302085]\n",
      " [-0.59784211  0.64016986  0.56409786 -0.06128535  0.62829191]\n",
      " [ 0.06495143 -0.06955004 -0.06128535  0.00665823 -0.06825959]\n",
      " [-0.66587623  0.71302085  0.62829191 -0.06825959  0.6997912 ]]\n"
     ]
    }
   ],
   "source": [
    "print(np.dot(a, a.T))"
   ]
  },
  {
   "cell_type": "markdown",
   "id": "c8da6c47-97d5-4e43-b67f-b37eb769096f",
   "metadata": {},
   "source": [
    "This does give us the outer product of a vector, which is a matrix with dimensions"
   ]
  }
 ],
 "metadata": {
  "environment": {
   "kernel": "conda-root-py",
   "name": "workbench-notebooks.m115",
   "type": "gcloud",
   "uri": "gcr.io/deeplearning-platform-release/workbench-notebooks:m115"
  },
  "kernelspec": {
   "display_name": "Python 3 (ipykernel) (Local)",
   "language": "python",
   "name": "conda-root-py"
  },
  "language_info": {
   "codemirror_mode": {
    "name": "ipython",
    "version": 3
   },
   "file_extension": ".py",
   "mimetype": "text/x-python",
   "name": "python",
   "nbconvert_exporter": "python",
   "pygments_lexer": "ipython3",
   "version": "3.10.13"
  }
 },
 "nbformat": 4,
 "nbformat_minor": 5
}
